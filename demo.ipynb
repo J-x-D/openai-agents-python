{
 "cells": [
  {
   "cell_type": "code",
   "execution_count": 1,
   "id": "60e5b0a9",
   "metadata": {},
   "outputs": [
    {
     "data": {
      "text/plain": [
       "True"
      ]
     },
     "execution_count": 1,
     "metadata": {},
     "output_type": "execute_result"
    }
   ],
   "source": [
    "from agents import Agent, Runner\n",
    "from dotenv import load_dotenv\n",
    "\n",
    "load_dotenv()"
   ]
  },
  {
   "cell_type": "code",
   "execution_count": 2,
   "id": "eced6a54",
   "metadata": {},
   "outputs": [
    {
     "name": "stderr",
     "output_type": "stream",
     "text": [
      "Unexpected output type, ignoring: <class 'agents.items.CustomResponseOutputMessage'>\n"
     ]
    },
    {
     "name": "stdout",
     "output_type": "stream",
     "text": [
      "Response: Based on the document provided, the sky is blue [My Document].\n"
     ]
    }
   ],
   "source": [
    "agent = Agent(\n",
    "    name=\"Assistant\",\n",
    "    instructions=\"You should check your knowledge for accuracy and cite factual information.\",\n",
    ")\n",
    "\n",
    "query = \"What is the color of the sky?\"\n",
    "\n",
    "result = await Runner.run(agent, query)\n",
    "\n",
    "for message in result.raw_responses[0].output:\n",
    "    combined_text = \"\"\n",
    "    for item in message.content:\n",
    "        combined_text += item.text\n",
    "        citations = getattr(item, \"citations\", None)\n",
    "        if citations:\n",
    "            for citation in citations:\n",
    "                combined_text += f\" [{citation.document_title}]\"\n",
    "    print(\"Response:\", combined_text.strip())"
   ]
  }
 ],
 "metadata": {
  "kernelspec": {
   "display_name": "Python 3",
   "language": "python",
   "name": "python3"
  },
  "language_info": {
   "codemirror_mode": {
    "name": "ipython",
    "version": 3
   },
   "file_extension": ".py",
   "mimetype": "text/x-python",
   "name": "python",
   "nbconvert_exporter": "python",
   "pygments_lexer": "ipython3",
   "version": "3.11.6"
  }
 },
 "nbformat": 4,
 "nbformat_minor": 5
}
