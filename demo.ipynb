{
 "cells": [
  {
   "cell_type": "code",
   "execution_count": 17,
   "id": "60e5b0a9",
   "metadata": {},
   "outputs": [
    {
     "data": {
      "text/plain": [
       "True"
      ]
     },
     "execution_count": 17,
     "metadata": {},
     "output_type": "execute_result"
    }
   ],
   "source": [
    "from agents import Agent, Runner\n",
    "from dotenv import load_dotenv\n",
    "\n",
    "load_dotenv()"
   ]
  },
  {
   "cell_type": "code",
   "execution_count": 21,
   "id": "eced6a54",
   "metadata": {},
   "outputs": [
    {
     "name": "stdout",
     "output_type": "stream",
     "text": [
      "Raw responses:\n",
      "[ModelResponse(output=[ResponseOutputMessage(id='msg_67fba592c4e48191b35ee176a31f855b044ebcdf34ccf2d5', content=[ResponseOutputText(annotations=[], text='The capital of France is Paris. As of 2023, Paris has a population of about 2.1 million people within the city proper, but the metropolitan area is much larger, with over 12 million people.\\n\\nThe Eiffel Tower is approximately 330 meters (1,083 feet) tall, including its antennas.', type='output_text')], role='assistant', status='completed', type='message')], usage=Usage(requests=1, input_tokens=35, output_tokens=66, total_tokens=101), referenceable_id='resp_67fba59275e481919f9d2b4adc4f0d0d044ebcdf34ccf2d5')]\n",
      "\n",
      "Final output:\n",
      "RunResult:\n",
      "- Last agent: Agent(name=\"Assistant\", ...)\n",
      "- Final output (str):\n",
      "    The capital of France is Paris. As of 2023, Paris has a population of about 2.1 million people within the city proper, but the metropolitan area is much larger, with over 12 million people.\n",
      "    \n",
      "    The Eiffel Tower is approximately 330 meters (1,083 feet) tall, including its antennas.\n",
      "- 1 new item(s)\n",
      "- 1 raw response(s)\n",
      "- 0 input guardrail result(s)\n",
      "- 0 output guardrail result(s)\n",
      "(See `RunResult` for more details)\n"
     ]
    }
   ],
   "source": [
    "agent = Agent(name=\"Assistant\", instructions=\"You are a helpful assistant\")\n",
    "\n",
    "\n",
    "result = await Runner.run(agent, \"What is the capital of France and what is its population? How tall is the Eiffel Tower?\")  # type: ignore[top-level-await]  # noqa: F704\n",
    "\n",
    "print(\"Raw responses:\")\n",
    "print(result.raw_responses)\n",
    "\n",
    "print(\"\\nFinal output:\")\n",
    "print(result)\n",
    "\n",
    "\n",
    "# if result.citations:\n",
    "#     print(\"\\nCitations:\")\n",
    "#     for citation in result.citations:\n",
    "#         print(f\"- {citation}\")"
   ]
  },
  {
   "cell_type": "code",
   "execution_count": null,
   "id": "9c4a7082",
   "metadata": {},
   "outputs": [],
   "source": []
  }
 ],
 "metadata": {
  "kernelspec": {
   "display_name": "Python 3",
   "language": "python",
   "name": "python3"
  },
  "language_info": {
   "codemirror_mode": {
    "name": "ipython",
    "version": 3
   },
   "file_extension": ".py",
   "mimetype": "text/x-python",
   "name": "python",
   "nbconvert_exporter": "python",
   "pygments_lexer": "ipython3",
   "version": "3.11.6"
  }
 },
 "nbformat": 4,
 "nbformat_minor": 5
}
